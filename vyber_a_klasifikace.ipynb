{
 "cells": [
  {
   "cell_type": "code",
   "execution_count": 25,
   "metadata": {},
   "outputs": [
    {
     "name": "stdout",
     "output_type": "stream",
     "text": [
      "[1.9, 1.8, 1.7, 1.6, 1.56, 1.5, 1.4, 1.3, 1.2, 1.1, 1, 0.9, 0.8, 0.78, 0.67, 0.56]\n",
      "[1.9, 1.8, 1.7, 1.6, 1.56]\n"
     ]
    }
   ],
   "source": [
    "hodnoty = [1, 1.7, 1.5, 1.2, 1.9, 1.8, 1.6, 1.3, 1.4, 1.1, 0.9, 0.8, 0.56, 0.78, 0.67, 1.56]\n",
    "limit = 1.56\n",
    "\n",
    "#seřazení hodnot od největší po nejmenší - vypise vsechny hodnoty\n",
    "def serad_hodnoty(hodnoty):\n",
    "    serazene_hodnoty = sorted(hodnoty, reverse=True)\n",
    "    return serazene_hodnoty\n",
    "print(serad_hodnoty(hodnoty))\n",
    "#výpis hodnot, které jsou větší než limit - a serazene od nejvetsiho po nejmensi\n",
    "def vetsi_nez_limit(serad_hodnoty, limit):\n",
    "    vetsi_hodnoty = []\n",
    "    for hodnota in serad_hodnoty:\n",
    "        if hodnota >= limit:\n",
    "            vetsi_hodnoty.append(hodnota)\n",
    "    return vetsi_hodnoty\n",
    "print(vetsi_nez_limit(sorted(hodnoty, reverse=True),limit))\n",
    "\n",
    "\n",
    "#vytvoření python kodu na seřazení hodnot od nejvetsiho a zobrazení jich nad limitem \n",
    "#(pote by se dalo vypustit samotne razení jelikoz je podruhe obsazeno i u limitu - limit i hodnoty jsou zatim pevne dane\n",
    "\n",
    "            "
   ]
  },
  {
   "cell_type": "code",
   "execution_count": 27,
   "metadata": {},
   "outputs": [
    {
     "name": "stdout",
     "output_type": "stream",
     "text": [
      "2024\n",
      "['Cerveny', 'Cerveny', 'Oranzovy', 'Zeleny', 'Cerveny', 'Cerveny', 'Cerveny', 'Zeleny', 'Cerveny', 'Oranzovy', 'Cerveny']\n"
     ]
    }
   ],
   "source": [
    "roky = [2001, 2002, 2021, 2023, 2018, 2017, 2016, 2022, 2014, 2019, 2015]\n",
    "# zjisteni aktualniho roku z casove znacky\n",
    "import datetime\n",
    "datum = datetime.datetime.now()\n",
    "print(datum.year)\n",
    "# porovnani hodnot roku z dat a casove znacky a obarveni dle stari\n",
    "#pokud je rozdil mezi hodnotou roky a aktualnim rokem mensi nez 3 roky bude zeleny, mensi nez 6 a zaroven starsi nez 3 bude oranzovy a starsi nez 6 cerveny\n",
    "\n",
    "\n",
    "def zjisti_stari(roky):\n",
    "    stari = []\n",
    "    for rok in roky:\n",
    "        if datum.year - rok < 3:\n",
    "            stari.append(\"Zeleny\")\n",
    "        elif datum.year - rok < 6:\n",
    "            stari.append(\"Oranzovy\")\n",
    "        else:\n",
    "            stari.append(\"Cerveny\")\n",
    "    return stari\n",
    "print(zjisti_stari(roky))"
   ]
  },
  {
   "cell_type": "code",
   "execution_count": 29,
   "metadata": {},
   "outputs": [
    {
     "name": "stdout",
     "output_type": "stream",
     "text": [
      "2001: Cerveny\n",
      "2002: Cerveny\n",
      "2021: Oranzovy\n",
      "2023: Zeleny\n",
      "2018: Cerveny\n",
      "2017: Cerveny\n",
      "2016: Cerveny\n",
      "2022: Zeleny\n",
      "2014: Cerveny\n",
      "2019: Oranzovy\n",
      "2015: Cerveny\n"
     ]
    }
   ],
   "source": [
    "#vytiskne to ten dany rok ale v te barve kterou jsem si nadefinovala\n",
    "def vytiskni_roky(roky, stari):\n",
    "    for rok, stari in zip(roky, stari):\n",
    "        print(f\"{rok}: {stari}\")\n",
    "vytiskni_roky(roky, zjisti_stari(roky))\n"
   ]
  },
  {
   "cell_type": "code",
   "execution_count": 1,
   "metadata": {},
   "outputs": [
    {
     "name": "stdout",
     "output_type": "stream",
     "text": [
      "Aktuální rok: 2024\n",
      "2001\n",
      "2002\n",
      "2021\n",
      "2023\n",
      "2018\n",
      "2017\n",
      "2016\n",
      "2022\n",
      "2014\n",
      "2019\n",
      "2015\n"
     ]
    }
   ],
   "source": [
    "from colorama import Fore, Style, init\n",
    "import datetime\n",
    "\n",
    "# Inicializace knihovny colorama\n",
    "init()\n",
    "\n",
    "# Seznam roků\n",
    "roky = [2001, 2002, 2021, 2023, 2018, 2017, 2016, 2022, 2014, 2019, 2015]\n",
    "\n",
    "# Zjištění aktuálního roku z časové značky\n",
    "datum = datetime.datetime.now()\n",
    "aktualni_rok = datum.year\n",
    "print(f\"Aktuální rok: {aktualni_rok}\")\n",
    "\n",
    "# Funkce pro určení barvy na základě stáří roku\n",
    "def zjisti_barvu(rok):\n",
    "    rozdil = aktualni_rok - rok\n",
    "    if rozdil < 3:\n",
    "        return Fore.GREEN\n",
    "    elif rozdil < 6:\n",
    "        return Fore.YELLOW  # Colorama nemá oranžovou, použijeme žlutou\n",
    "    else:\n",
    "        return Fore.RED\n",
    "\n",
    "# Vytištění roků s přiřazenými barvami\n",
    "for rok in roky:\n",
    "    barva = zjisti_barvu(rok)\n",
    "    print(f\"{barva}{rok}{Style.RESET_ALL}\")\n",
    "\n"
   ]
  },
  {
   "cell_type": "code",
   "execution_count": 2,
   "metadata": {},
   "outputs": [
    {
     "ename": "ModuleNotFoundError",
     "evalue": "No module named 'termcolor'",
     "output_type": "error",
     "traceback": [
      "\u001b[1;31m---------------------------------------------------------------------------\u001b[0m",
      "\u001b[1;31mModuleNotFoundError\u001b[0m                       Traceback (most recent call last)",
      "Cell \u001b[1;32mIn[2], line 1\u001b[0m\n\u001b[1;32m----> 1\u001b[0m \u001b[38;5;28;01mfrom\u001b[39;00m \u001b[38;5;21;01mtermcolor\u001b[39;00m \u001b[38;5;28;01mimport\u001b[39;00m colored\n\u001b[0;32m      2\u001b[0m \u001b[38;5;28;01mimport\u001b[39;00m \u001b[38;5;21;01mdatetime\u001b[39;00m\n\u001b[0;32m      4\u001b[0m \u001b[38;5;66;03m# Seznam roků\u001b[39;00m\n",
      "\u001b[1;31mModuleNotFoundError\u001b[0m: No module named 'termcolor'"
     ]
    }
   ],
   "source": [
    "from termcolor import colored\n",
    "import datetime\n",
    "\n",
    "# Seznam roků\n",
    "roky = [2001, 2002, 2021, 2023, 2018, 2017, 2016, 2022, 2014, 2019, 2015]\n",
    "\n",
    "# Zjištění aktuálního roku z časové značky\n",
    "datum = datetime.datetime.now()\n",
    "aktualni_rok = datum.year\n",
    "print(f\"Aktuální rok: {aktualni_rok}\")\n",
    "\n",
    "# Funkce pro určení barvy na základě stáří roku\n",
    "def zjisti_barvu(rok):\n",
    "    rozdil = aktualni_rok - rok\n",
    "    if rozdil < 3:\n",
    "        return \"green\"\n",
    "    elif rozdil < 6:\n",
    "        return \"yellow\"\n",
    "    else:\n",
    "        return \"red\"\n",
    "\n",
    "# Vytištění roků s přiřazenými barvami\n",
    "for rok in roky:\n",
    "    barva = zjisti_barvu(rok)\n",
    "    print(colored(rok, barva))\n"
   ]
  },
  {
   "cell_type": "code",
   "execution_count": 3,
   "metadata": {},
   "outputs": [
    {
     "ename": "ModuleNotFoundError",
     "evalue": "No module named 'rich'",
     "output_type": "error",
     "traceback": [
      "\u001b[1;31m---------------------------------------------------------------------------\u001b[0m",
      "\u001b[1;31mModuleNotFoundError\u001b[0m                       Traceback (most recent call last)",
      "Cell \u001b[1;32mIn[3], line 1\u001b[0m\n\u001b[1;32m----> 1\u001b[0m \u001b[38;5;28;01mfrom\u001b[39;00m \u001b[38;5;21;01mrich\u001b[39;00m\u001b[38;5;21;01m.\u001b[39;00m\u001b[38;5;21;01mconsole\u001b[39;00m \u001b[38;5;28;01mimport\u001b[39;00m Console\n\u001b[0;32m      3\u001b[0m console \u001b[38;5;241m=\u001b[39m Console()\n\u001b[0;32m      5\u001b[0m console\u001b[38;5;241m.\u001b[39mprint(\u001b[38;5;124m\"\u001b[39m\u001b[38;5;124mThis is red text\u001b[39m\u001b[38;5;124m\"\u001b[39m, style\u001b[38;5;241m=\u001b[39m\u001b[38;5;124m\"\u001b[39m\u001b[38;5;124mred\u001b[39m\u001b[38;5;124m\"\u001b[39m)\n",
      "\u001b[1;31mModuleNotFoundError\u001b[0m: No module named 'rich'"
     ]
    }
   ],
   "source": [
    "from rich.console import Console\n",
    "\n",
    "console = Console()\n",
    "\n",
    "console.print(\"This is red text\", style=\"red\")\n",
    "console.print(\"This is green text\", style=\"green\")\n",
    "console.print(\"This is yellow text\", style=\"yellow\")\n",
    "console.print(\"This is default text\")\n"
   ]
  }
 ],
 "metadata": {
  "kernelspec": {
   "display_name": "adelprostredi",
   "language": "python",
   "name": "python3"
  },
  "language_info": {
   "codemirror_mode": {
    "name": "ipython",
    "version": 3
   },
   "file_extension": ".py",
   "mimetype": "text/x-python",
   "name": "python",
   "nbconvert_exporter": "python",
   "pygments_lexer": "ipython3",
   "version": "3.12.3"
  }
 },
 "nbformat": 4,
 "nbformat_minor": 2
}
