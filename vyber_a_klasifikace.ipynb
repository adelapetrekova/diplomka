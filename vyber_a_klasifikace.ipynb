{
 "cells": [
  {
   "cell_type": "code",
   "execution_count": 25,
   "metadata": {},
   "outputs": [
    {
     "name": "stdout",
     "output_type": "stream",
     "text": [
      "[1.9, 1.8, 1.7, 1.6, 1.56, 1.5, 1.4, 1.3, 1.2, 1.1, 1, 0.9, 0.8, 0.78, 0.67, 0.56]\n",
      "[1.9, 1.8, 1.7, 1.6, 1.56]\n"
     ]
    }
   ],
   "source": [
    "hodnoty = [1, 1.7, 1.5, 1.2, 1.9, 1.8, 1.6, 1.3, 1.4, 1.1, 0.9, 0.8, 0.56, 0.78, 0.67, 1.56]\n",
    "limit = 1.56\n",
    "\n",
    "#seřazení hodnot od největší po nejmenší - vypise vsechny hodnoty\n",
    "def serad_hodnoty(hodnoty):\n",
    "    serazene_hodnoty = sorted(hodnoty, reverse=True)\n",
    "    return serazene_hodnoty\n",
    "print(serad_hodnoty(hodnoty))\n",
    "#výpis hodnot, které jsou větší než limit - a serazene od nejvetsiho po nejmensi\n",
    "def vetsi_nez_limit(serad_hodnoty, limit):\n",
    "    vetsi_hodnoty = []\n",
    "    for hodnota in serad_hodnoty:\n",
    "        if hodnota >= limit:\n",
    "            vetsi_hodnoty.append(hodnota)\n",
    "    return vetsi_hodnoty\n",
    "print(vetsi_nez_limit(sorted(hodnoty, reverse=True),limit))\n",
    "\n",
    "\n",
    "#vytvoření python kodu na seřazení hodnot od nejvetsiho a zobrazení jich nad limitem \n",
    "#(pote by se dalo vypustit samotne razení jelikoz je podruhe obsazeno i u limitu - limit i hodnoty jsou zatim pevne dane\n",
    "\n",
    "            "
   ]
  },
  {
   "cell_type": "code",
   "execution_count": 27,
   "metadata": {},
   "outputs": [
    {
     "name": "stdout",
     "output_type": "stream",
     "text": [
      "2024\n",
      "['Cerveny', 'Cerveny', 'Oranzovy', 'Zeleny', 'Cerveny', 'Cerveny', 'Cerveny', 'Zeleny', 'Cerveny', 'Oranzovy', 'Cerveny']\n"
     ]
    }
   ],
   "source": [
    "roky = [2001, 2002, 2021, 2023, 2018, 2017, 2016, 2022, 2014, 2019, 2015]\n",
    "# zjisteni aktualniho roku z casove znacky\n",
    "import datetime\n",
    "datum = datetime.datetime.now()\n",
    "print(datum.year)\n",
    "# porovnani hodnot roku z dat a casove znacky a obarveni dle stari\n",
    "#pokud je rozdil mezi hodnotou roky a aktualnim rokem mensi nez 3 roky bude zeleny, mensi nez 6 a zaroven starsi nez 3 bude oranzovy a starsi nez 6 cerveny\n",
    "def zjisti_stari(roky):\n",
    "    stari = []\n",
    "    for rok in roky:\n",
    "        if datum.year - rok < 3:\n",
    "            stari.append(\"Zeleny\")\n",
    "        elif datum.year - rok < 6:\n",
    "            stari.append(\"Oranzovy\")\n",
    "        else:\n",
    "            stari.append(\"Cerveny\")\n",
    "    return stari\n",
    "print(zjisti_stari(roky))"
   ]
  },
  {
   "cell_type": "code",
   "execution_count": null,
   "metadata": {},
   "outputs": [],
   "source": []
  }
 ],
 "metadata": {
  "kernelspec": {
   "display_name": "adelprostredi",
   "language": "python",
   "name": "python3"
  },
  "language_info": {
   "codemirror_mode": {
    "name": "ipython",
    "version": 3
   },
   "file_extension": ".py",
   "mimetype": "text/x-python",
   "name": "python",
   "nbconvert_exporter": "python",
   "pygments_lexer": "ipython3",
   "version": "3.12.3"
  }
 },
 "nbformat": 4,
 "nbformat_minor": 2
}
