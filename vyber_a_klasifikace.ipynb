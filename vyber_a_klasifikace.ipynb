{
 "cells": [
  {
   "cell_type": "code",
   "execution_count": 25,
   "metadata": {},
   "outputs": [
    {
     "name": "stdout",
     "output_type": "stream",
     "text": [
      "[1.9, 1.8, 1.7, 1.6, 1.56, 1.5, 1.4, 1.3, 1.2, 1.1, 1, 0.9, 0.8, 0.78, 0.67, 0.56]\n",
      "[1.9, 1.8, 1.7, 1.6, 1.56]\n"
     ]
    }
   ],
   "source": [
    "hodnoty = [1, 1.7, 1.5, 1.2, 1.9, 1.8, 1.6, 1.3, 1.4, 1.1, 0.9, 0.8, 0.56, 0.78, 0.67, 1.56]\n",
    "limit = 1.56\n",
    "#dale bude potreba pri napojeni tento limit nemit dany jasny ale moct si navolit takze jako promennou + nejaka defaultni prednastavena kterou si bude moct uzivatel zmenit\n",
    "# dale hodnoty nebudou tady tak dane ale budou napojeny na databazi a hodnoty se budou brat od tama \n",
    "\n",
    "#seřazení hodnot od největší po nejmenší - vypise vsechny hodnoty\n",
    "def serad_hodnoty(hodnoty):\n",
    "    serazene_hodnoty = sorted(hodnoty, reverse=True)\n",
    "    return serazene_hodnoty\n",
    "print(serad_hodnoty(hodnoty))\n",
    "#výpis hodnot, které jsou větší než limit - a serazene od nejvetsiho po nejmensi\n",
    "def vetsi_nez_limit(serad_hodnoty, limit):\n",
    "    vetsi_hodnoty = []\n",
    "    for hodnota in serad_hodnoty:\n",
    "        if hodnota >= limit:\n",
    "            vetsi_hodnoty.append(hodnota)\n",
    "    return vetsi_hodnoty\n",
    "print(vetsi_nez_limit(sorted(hodnoty, reverse=True),limit))\n",
    "\n",
    "\n",
    "#vytvoření python kodu na seřazení hodnot od nejvetsiho a zobrazení jich nad limitem \n",
    "#(pote by se dalo vypustit samotne razení jelikoz je podruhe obsazeno i u limitu - limit i hodnoty jsou zatim pevne dane\n",
    "\n",
    "            "
   ]
  },
  {
   "cell_type": "code",
   "execution_count": 27,
   "metadata": {},
   "outputs": [
    {
     "name": "stdout",
     "output_type": "stream",
     "text": [
      "2024\n",
      "['Cerveny', 'Cerveny', 'Oranzovy', 'Zeleny', 'Cerveny', 'Cerveny', 'Cerveny', 'Zeleny', 'Cerveny', 'Oranzovy', 'Cerveny']\n"
     ]
    }
   ],
   "source": [
    "#opet roky budou brany z databaze potreba napojet nebudou tady takto napsany \n",
    "roky = [2001, 2002, 2021, 2023, 2018, 2017, 2016, 2022, 2014, 2019, 2015]\n",
    "# zjisteni aktualniho roku z casove znacky\n",
    "import datetime\n",
    "datum = datetime.datetime.now()\n",
    "print(datum.year)\n",
    "# porovnani hodnot roku z dat a casove znacky a obarveni dle stari\n",
    "#pokud je rozdil mezi hodnotou roky a aktualnim rokem mensi nez 3 roky bude zeleny, mensi nez 6 a zaroven starsi nez 3 bude oranzovy a starsi nez 6 cerveny\n",
    "\n",
    "\n",
    "def zjisti_stari(roky):\n",
    "    stari = []\n",
    "    for rok in roky:\n",
    "        if datum.year - rok < 3:\n",
    "            stari.append(\"Zeleny\")\n",
    "        elif datum.year - rok < 6:\n",
    "            stari.append(\"Oranzovy\")\n",
    "        else:\n",
    "            stari.append(\"Cerveny\")\n",
    "    return stari\n",
    "print(zjisti_stari(roky))"
   ]
  },
  {
   "cell_type": "code",
   "execution_count": 29,
   "metadata": {},
   "outputs": [
    {
     "name": "stdout",
     "output_type": "stream",
     "text": [
      "2001: Cerveny\n",
      "2002: Cerveny\n",
      "2021: Oranzovy\n",
      "2023: Zeleny\n",
      "2018: Cerveny\n",
      "2017: Cerveny\n",
      "2016: Cerveny\n",
      "2022: Zeleny\n",
      "2014: Cerveny\n",
      "2019: Oranzovy\n",
      "2015: Cerveny\n"
     ]
    }
   ],
   "source": [
    "#vytiskne to ten dany rok ale v te barve kterou jsem si nadefinovala\n",
    "def vytiskni_roky(roky, stari):\n",
    "    for rok, stari in zip(roky, stari):\n",
    "        print(f\"{rok}: {stari}\")\n",
    "vytiskni_roky(roky, zjisti_stari(roky))\n"
   ]
  },
  {
   "cell_type": "code",
   "execution_count": 1,
   "metadata": {},
   "outputs": [
    {
     "name": "stdout",
     "output_type": "stream",
     "text": [
      "Aktuální rok: 2024\n",
      "2001\n",
      "2002\n",
      "2021\n",
      "2023\n",
      "2018\n",
      "2017\n",
      "2016\n",
      "2022\n",
      "2014\n",
      "2019\n",
      "2015\n"
     ]
    }
   ],
   "source": [
    "from colorama import Fore, Style, init\n",
    "import datetime\n",
    "\n",
    "# Inicializace knihovny colorama\n",
    "init()\n",
    "\n",
    "# Seznam roků\n",
    "roky = [2001, 2002, 2021, 2023, 2018, 2017, 2016, 2022, 2014, 2019, 2015]\n",
    "\n",
    "# Zjištění aktuálního roku z časové značky\n",
    "datum = datetime.datetime.now()\n",
    "aktualni_rok = datum.year\n",
    "print(f\"Aktuální rok: {aktualni_rok}\")\n",
    "\n",
    "# Funkce pro určení barvy na základě stáří roku\n",
    "def zjisti_barvu(rok):\n",
    "    rozdil = aktualni_rok - rok\n",
    "    if rozdil < 3:\n",
    "        return Fore.GREEN\n",
    "    elif rozdil < 6:\n",
    "        return Fore.YELLOW  # Colorama nemá oranžovou, použijeme žlutou\n",
    "    else:\n",
    "        return Fore.RED\n",
    "\n",
    "# Vytištění roků s přiřazenými barvami\n",
    "for rok in roky:\n",
    "    barva = zjisti_barvu(rok)\n",
    "    print(f\"{barva}{rok}{Style.RESET_ALL}\")\n",
    "\n"
   ]
  },
  {
   "cell_type": "code",
   "execution_count": 2,
   "metadata": {},
   "outputs": [
    {
     "name": "stdout",
     "output_type": "stream",
     "text": [
      "Aktuální rok: 2024\n",
      "2001\n",
      "2002\n",
      "2021\n",
      "2023\n",
      "2018\n",
      "2017\n",
      "2016\n",
      "2022\n",
      "2014\n",
      "2019\n",
      "2015\n"
     ]
    }
   ],
   "source": [
    "from termcolor import colored\n",
    "import datetime\n",
    "\n",
    "# Seznam roků\n",
    "roky = [2001, 2002, 2021, 2023, 2018, 2017, 2016, 2022, 2014, 2019, 2015]\n",
    "\n",
    "# Zjištění aktuálního roku z časové značky\n",
    "datum = datetime.datetime.now()\n",
    "aktualni_rok = datum.year\n",
    "print(f\"Aktuální rok: {aktualni_rok}\")\n",
    "\n",
    "# Funkce pro určení barvy na základě stáří roku\n",
    "def zjisti_barvu(rok):\n",
    "    rozdil = aktualni_rok - rok\n",
    "    if rozdil < 3:\n",
    "        return \"green\"\n",
    "    elif rozdil < 6:\n",
    "        return \"yellow\"\n",
    "    else:\n",
    "        return \"red\"\n",
    "\n",
    "# Vytištění roků s přiřazenými barvami\n",
    "for rok in roky:\n",
    "    barva = zjisti_barvu(rok)\n",
    "    print(colored(rok, barva))\n"
   ]
  },
  {
   "cell_type": "code",
   "execution_count": 3,
   "metadata": {},
   "outputs": [
    {
     "data": {
      "text/html": [
       "<pre style=\"white-space:pre;overflow-x:auto;line-height:normal;font-family:Menlo,'DejaVu Sans Mono',consolas,'Courier New',monospace\"><span style=\"color: #800000; text-decoration-color: #800000\">This is red text</span>\n",
       "</pre>\n"
      ],
      "text/plain": [
       "\u001b[31mThis is red text\u001b[0m\n"
      ]
     },
     "metadata": {},
     "output_type": "display_data"
    },
    {
     "data": {
      "text/html": [
       "<pre style=\"white-space:pre;overflow-x:auto;line-height:normal;font-family:Menlo,'DejaVu Sans Mono',consolas,'Courier New',monospace\"><span style=\"color: #008000; text-decoration-color: #008000\">This is green text</span>\n",
       "</pre>\n"
      ],
      "text/plain": [
       "\u001b[32mThis is green text\u001b[0m\n"
      ]
     },
     "metadata": {},
     "output_type": "display_data"
    },
    {
     "data": {
      "text/html": [
       "<pre style=\"white-space:pre;overflow-x:auto;line-height:normal;font-family:Menlo,'DejaVu Sans Mono',consolas,'Courier New',monospace\"><span style=\"color: #808000; text-decoration-color: #808000\">This is yellow text</span>\n",
       "</pre>\n"
      ],
      "text/plain": [
       "\u001b[33mThis is yellow text\u001b[0m\n"
      ]
     },
     "metadata": {},
     "output_type": "display_data"
    },
    {
     "data": {
      "text/html": [
       "<pre style=\"white-space:pre;overflow-x:auto;line-height:normal;font-family:Menlo,'DejaVu Sans Mono',consolas,'Courier New',monospace\">This is default text\n",
       "</pre>\n"
      ],
      "text/plain": [
       "This is default text\n"
      ]
     },
     "metadata": {},
     "output_type": "display_data"
    }
   ],
   "source": [
    "from rich.console import Console\n",
    "\n",
    "console = Console()\n",
    "\n",
    "console.print(\"This is red text\", style=\"red\")\n",
    "console.print(\"This is green text\", style=\"green\")\n",
    "console.print(\"This is yellow text\", style=\"yellow\")\n",
    "\n",
    "console.print(\"This is default text\")\n"
   ]
  },
  {
   "cell_type": "code",
   "execution_count": 8,
   "metadata": {},
   "outputs": [
    {
     "data": {
      "text/html": [
       "<pre style=\"white-space:pre;overflow-x:auto;line-height:normal;font-family:Menlo,'DejaVu Sans Mono',consolas,'Courier New',monospace\">Aktuální rok: <span style=\"color: #008080; text-decoration-color: #008080; font-weight: bold\">2024</span>\n",
       "</pre>\n"
      ],
      "text/plain": [
       "Aktuální rok: \u001b[1;36m2024\u001b[0m\n"
      ]
     },
     "metadata": {},
     "output_type": "display_data"
    },
    {
     "data": {
      "text/html": [
       "<pre style=\"white-space:pre;overflow-x:auto;line-height:normal;font-family:Menlo,'DejaVu Sans Mono',consolas,'Courier New',monospace\"><span style=\"color: #800000; text-decoration-color: #800000; font-weight: bold\">2001</span>\n",
       "</pre>\n"
      ],
      "text/plain": [
       "\u001b[1;31m2001\u001b[0m\n"
      ]
     },
     "metadata": {},
     "output_type": "display_data"
    },
    {
     "data": {
      "text/html": [
       "<pre style=\"white-space:pre;overflow-x:auto;line-height:normal;font-family:Menlo,'DejaVu Sans Mono',consolas,'Courier New',monospace\"><span style=\"color: #800000; text-decoration-color: #800000; font-weight: bold\">2002</span>\n",
       "</pre>\n"
      ],
      "text/plain": [
       "\u001b[1;31m2002\u001b[0m\n"
      ]
     },
     "metadata": {},
     "output_type": "display_data"
    },
    {
     "data": {
      "text/html": [
       "<pre style=\"white-space:pre;overflow-x:auto;line-height:normal;font-family:Menlo,'DejaVu Sans Mono',consolas,'Courier New',monospace\"><span style=\"color: #808000; text-decoration-color: #808000; font-weight: bold\">2021</span>\n",
       "</pre>\n"
      ],
      "text/plain": [
       "\u001b[1;33m2021\u001b[0m\n"
      ]
     },
     "metadata": {},
     "output_type": "display_data"
    },
    {
     "data": {
      "text/html": [
       "<pre style=\"white-space:pre;overflow-x:auto;line-height:normal;font-family:Menlo,'DejaVu Sans Mono',consolas,'Courier New',monospace\"><span style=\"color: #008000; text-decoration-color: #008000; font-weight: bold\">2023</span>\n",
       "</pre>\n"
      ],
      "text/plain": [
       "\u001b[1;32m2023\u001b[0m\n"
      ]
     },
     "metadata": {},
     "output_type": "display_data"
    },
    {
     "data": {
      "text/html": [
       "<pre style=\"white-space:pre;overflow-x:auto;line-height:normal;font-family:Menlo,'DejaVu Sans Mono',consolas,'Courier New',monospace\"><span style=\"color: #800000; text-decoration-color: #800000; font-weight: bold\">2018</span>\n",
       "</pre>\n"
      ],
      "text/plain": [
       "\u001b[1;31m2018\u001b[0m\n"
      ]
     },
     "metadata": {},
     "output_type": "display_data"
    },
    {
     "data": {
      "text/html": [
       "<pre style=\"white-space:pre;overflow-x:auto;line-height:normal;font-family:Menlo,'DejaVu Sans Mono',consolas,'Courier New',monospace\"><span style=\"color: #800000; text-decoration-color: #800000; font-weight: bold\">2017</span>\n",
       "</pre>\n"
      ],
      "text/plain": [
       "\u001b[1;31m2017\u001b[0m\n"
      ]
     },
     "metadata": {},
     "output_type": "display_data"
    },
    {
     "data": {
      "text/html": [
       "<pre style=\"white-space:pre;overflow-x:auto;line-height:normal;font-family:Menlo,'DejaVu Sans Mono',consolas,'Courier New',monospace\"><span style=\"color: #800000; text-decoration-color: #800000; font-weight: bold\">2016</span>\n",
       "</pre>\n"
      ],
      "text/plain": [
       "\u001b[1;31m2016\u001b[0m\n"
      ]
     },
     "metadata": {},
     "output_type": "display_data"
    },
    {
     "data": {
      "text/html": [
       "<pre style=\"white-space:pre;overflow-x:auto;line-height:normal;font-family:Menlo,'DejaVu Sans Mono',consolas,'Courier New',monospace\"><span style=\"color: #008000; text-decoration-color: #008000; font-weight: bold\">2022</span>\n",
       "</pre>\n"
      ],
      "text/plain": [
       "\u001b[1;32m2022\u001b[0m\n"
      ]
     },
     "metadata": {},
     "output_type": "display_data"
    },
    {
     "data": {
      "text/html": [
       "<pre style=\"white-space:pre;overflow-x:auto;line-height:normal;font-family:Menlo,'DejaVu Sans Mono',consolas,'Courier New',monospace\"><span style=\"color: #800000; text-decoration-color: #800000; font-weight: bold\">2014</span>\n",
       "</pre>\n"
      ],
      "text/plain": [
       "\u001b[1;31m2014\u001b[0m\n"
      ]
     },
     "metadata": {},
     "output_type": "display_data"
    },
    {
     "data": {
      "text/html": [
       "<pre style=\"white-space:pre;overflow-x:auto;line-height:normal;font-family:Menlo,'DejaVu Sans Mono',consolas,'Courier New',monospace\"><span style=\"color: #808000; text-decoration-color: #808000; font-weight: bold\">2019</span>\n",
       "</pre>\n"
      ],
      "text/plain": [
       "\u001b[1;33m2019\u001b[0m\n"
      ]
     },
     "metadata": {},
     "output_type": "display_data"
    },
    {
     "data": {
      "text/html": [
       "<pre style=\"white-space:pre;overflow-x:auto;line-height:normal;font-family:Menlo,'DejaVu Sans Mono',consolas,'Courier New',monospace\"><span style=\"color: #800000; text-decoration-color: #800000; font-weight: bold\">2015</span>\n",
       "</pre>\n"
      ],
      "text/plain": [
       "\u001b[1;31m2015\u001b[0m\n"
      ]
     },
     "metadata": {},
     "output_type": "display_data"
    }
   ],
   "source": [
    "from rich import print\n",
    "from datetime import datetime\n",
    "\n",
    "# Seznam roků\n",
    "#nasledne budou napojeny z databaze a ne takto vypsane\n",
    "# popremyslet nad nejakym treba soupatkem kde si bude moct zmenit ten rozdil jestli treba 3 roky nebo tak \n",
    "roky = [2001, 2002, 2021, 2023, 2018, 2017, 2016, 2022, 2014, 2019, 2015]\n",
    "\n",
    "# Zjištění aktuálního roku\n",
    "aktualni_rok = datetime.now().year\n",
    "print(f\"Aktuální rok: {aktualni_rok}\")\n",
    "\n",
    "# Funkce pro určení barvy na základě stáří roku\n",
    "def urci_barvu(rok):\n",
    "    rozdil = aktualni_rok - rok\n",
    "    if rozdil < 3:\n",
    "        return \"green\"\n",
    "    elif rozdil < 6:\n",
    "        return \"yellow\"\n",
    "    else:\n",
    "        return \"red\"\n",
    "\n",
    "# Vytisknutí roků s přiřazenými barvami\n",
    "for rok in roky:\n",
    "    barva = urci_barvu(rok)\n",
    "    print(f\"[{barva}]{rok}[/]\")\n"
   ]
  },
  {
   "cell_type": "code",
   "execution_count": null,
   "metadata": {},
   "outputs": [],
   "source": []
  }
 ],
 "metadata": {
  "kernelspec": {
   "display_name": "Python 3",
   "language": "python",
   "name": "python3"
  },
  "language_info": {
   "codemirror_mode": {
    "name": "ipython",
    "version": 3
   },
   "file_extension": ".py",
   "mimetype": "text/x-python",
   "name": "python",
   "nbconvert_exporter": "python",
   "pygments_lexer": "ipython3",
   "version": "3.12.3"
  }
 },
 "nbformat": 4,
 "nbformat_minor": 2
}
