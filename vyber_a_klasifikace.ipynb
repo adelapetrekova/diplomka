{
 "cells": [
  {
   "cell_type": "code",
   "execution_count": 25,
   "metadata": {},
   "outputs": [
    {
     "name": "stdout",
     "output_type": "stream",
     "text": [
      "[1.9, 1.8, 1.7, 1.6, 1.56, 1.5, 1.4, 1.3, 1.2, 1.1, 1, 0.9, 0.8, 0.78, 0.67, 0.56]\n",
      "[1.9, 1.8, 1.7, 1.6, 1.56]\n"
     ]
    }
   ],
   "source": [
    "hodnoty = [1, 1.7, 1.5, 1.2, 1.9, 1.8, 1.6, 1.3, 1.4, 1.1, 0.9, 0.8, 0.56, 0.78, 0.67, 1.56]\n",
    "limit = 1.56\n",
    "\n",
    "#seřazení hodnot od největší po nejmenší\n",
    "def serad_hodnoty(hodnoty):\n",
    "    serazene_hodnoty = sorted(hodnoty, reverse=True)\n",
    "    return serazene_hodnoty\n",
    "print(serad_hodnoty(hodnoty))\n",
    "#výpis hodnot, které jsou větší než limit\n",
    "def vetsi_nez_limit(serad_hodnoty, limit):\n",
    "    vetsi_hodnoty = []\n",
    "    for hodnota in serad_hodnoty:\n",
    "        if hodnota >= limit:\n",
    "            vetsi_hodnoty.append(hodnota)\n",
    "    return vetsi_hodnoty\n",
    "print(vetsi_nez_limit(sorted(hodnoty, reverse=True),limit))\n",
    "\n",
    "            "
   ]
  }
 ],
 "metadata": {
  "kernelspec": {
   "display_name": "adelprostredi",
   "language": "python",
   "name": "python3"
  },
  "language_info": {
   "codemirror_mode": {
    "name": "ipython",
    "version": 3
   },
   "file_extension": ".py",
   "mimetype": "text/x-python",
   "name": "python",
   "nbconvert_exporter": "python",
   "pygments_lexer": "ipython3",
   "version": "3.12.3"
  }
 },
 "nbformat": 4,
 "nbformat_minor": 2
}
