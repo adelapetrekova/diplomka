{
 "cells": [
  {
   "cell_type": "code",
   "execution_count": 4,
   "metadata": {},
   "outputs": [
    {
     "name": "stdout",
     "output_type": "stream",
     "text": [
      "Připojení k databázi bylo úspěšné\n"
     ]
    }
   ],
   "source": [
    "import psycopg2\n",
    "\n",
    "# Přihlašovací údaje k databázi\n",
    "dbname = 'DP_pokus'\n",
    "user = 'postgres'\n",
    "password = 'kapli4ky'\n",
    "host = 'localhost'\n",
    "port = '5432'  # Výchozí port PostgreSQL\n",
    "\n",
    "try:\n",
    "    # Vytvoření připojení\n",
    "    connection = psycopg2.connect(\n",
    "        dbname=dbname,\n",
    "        user=user,\n",
    "        password=password,\n",
    "        host=host,\n",
    "        port=port\n",
    "    )\n",
    "    # Vytvoření kurzoru pro provádění SQL dotazů\n",
    "    cursor = connection.cursor()\n",
    "    print(\"Připojení k databázi bylo úspěšné\")\n",
    "\n",
    "    # Zde můžete provádět SQL dotazy\n",
    "    # Například: cursor.execute(\"SELECT * FROM tabulka\")\n",
    "\n",
    "except Exception as error:\n",
    "    print(f\"Chyba při připojování k databázi: {error}\")\n",
    "\n",
    "#finally:\n",
    "    # Uzavření kurzoru a připojení\n",
    "    #if cursor:\n",
    "     #   cursor.close()\n",
    "    #if connection:\n",
    "     #   connection.close()\n",
    "      #  print(\"Připojení k databázi bylo uzavřeno\")\n"
   ]
  },
  {
   "cell_type": "code",
   "execution_count": 13,
   "metadata": {},
   "outputs": [
    {
     "name": "stdout",
     "output_type": "stream",
     "text": [
      "Chyba při provádění dotazu: cursor already closed\n"
     ]
    }
   ],
   "source": [
    "try:\n",
    "    # Například: Vyberte všechna data z tabulky\n",
    "    cursor.execute(\"SELECT * FROM cernochovice_Union\")\n",
    "    rows = cursor.fetchall()\n",
    "    for row in rows:\n",
    "        print(row)\n",
    "except Exception as error:\n",
    "    print(f\"Chyba při provádění dotazu: {error}\")\n",
    "\n"
   ]
  },
  {
   "cell_type": "code",
   "execution_count": null,
   "metadata": {},
   "outputs": [],
   "source": [
    "import psycopg2\n",
    "\n",
    "# Přihlašovací údaje k databázi\n",
    "dbname = 'DP_pokus'\n",
    "user = 'postgres'\n",
    "password = 'kapli4ky'\n",
    "host = 'localhost'\n",
    "port = '5432'  # Výchozí port PostgreSQL\n",
    "\n",
    "try:\n",
    "    # Vytvoření připojení\n",
    "    connection = psycopg2.connect(\n",
    "        dbname=dbname,\n",
    "        user=user,\n",
    "        password=password,\n",
    "        host=host,\n",
    "        port=port\n",
    "    )\n",
    "    # Vytvoření kurzoru pro provádění SQL dotazů\n",
    "    cursor = connection.cursor()\n",
    "    print(\"Připojení k databázi bylo úspěšné\")\n",
    "\n",
    "    # SQL dotaz s použitím ST_Area a vynásobením jinými sloupci\n",
    "    sql_query = \"\"\"\n",
    "    SELECT\n",
    "        id,  -- Změňte na svůj primární klíč nebo identifikátor\n",
    "        ST_Area(geom) AS plocha,\n",
    "        (ST_Area(geom) * jiný_sloupec) AS vymena\n",
    "    FROM\n",
    "        tabulka\n",
    "    \"\"\"\n",
    "    \n",
    "    cursor.execute(sql_query)\n",
    "    rows = cursor.fetchall()\n",
    "    \n",
    "    # Zpracování výsledků\n",
    "    for row in rows:\n",
    "        print(f\"ID: {row[0]}, Plocha: {row[1]}, Výměna: {row[2]}\")\n",
    "        \n",
    "except Exception as error:\n",
    "    print(f\"Chyba při provádění dotazu: {error}\")\n",
    "\n",
    "finally:\n",
    "    # Uzavření kurzoru a připojení\n",
    "    if cursor:\n",
    "        cursor.close()\n",
    "    if connection:\n",
    "        connection.close()\n",
    "        print(\"Připojení k databázi bylo uzavřeno\")\n",
    "\n"
   ]
  }
 ],
 "metadata": {
  "kernelspec": {
   "display_name": "adelprostredi",
   "language": "python",
   "name": "python3"
  },
  "language_info": {
   "codemirror_mode": {
    "name": "ipython",
    "version": 3
   },
   "file_extension": ".py",
   "mimetype": "text/x-python",
   "name": "python",
   "nbconvert_exporter": "python",
   "pygments_lexer": "ipython3",
   "version": "3.12.3"
  }
 },
 "nbformat": 4,
 "nbformat_minor": 2
}
