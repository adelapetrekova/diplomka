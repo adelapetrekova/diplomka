{
 "cells": [
  {
   "cell_type": "code",
   "execution_count": 1,
   "metadata": {},
   "outputs": [
    {
     "data": {
      "text/html": [
       "<pre style=\"white-space:pre;overflow-x:auto;line-height:normal;font-family:Menlo,'DejaVu Sans Mono',consolas,'Courier New',monospace\">Připojení k databázi bylo úspěšné\n",
       "</pre>\n"
      ],
      "text/plain": [
       "Připojení k databázi bylo úspěšné\n"
      ]
     },
     "metadata": {},
     "output_type": "display_data"
    },
    {
     "data": {
      "text/html": [
       "<pre style=\"white-space:pre;overflow-x:auto;line-height:normal;font-family:Menlo,'DejaVu Sans Mono',consolas,'Courier New',monospace\">Aktuální rok: <span style=\"color: #008080; text-decoration-color: #008080; font-weight: bold\">2024</span>\n",
       "</pre>\n"
      ],
      "text/plain": [
       "Aktuální rok: \u001b[1;36m2024\u001b[0m\n"
      ]
     },
     "metadata": {},
     "output_type": "display_data"
    },
    {
     "data": {
      "text/html": [
       "<pre style=\"white-space:pre;overflow-x:auto;line-height:normal;font-family:Menlo,'DejaVu Sans Mono',consolas,'Courier New',monospace\"><span style=\"color: #800000; text-decoration-color: #800000; font-weight: bold\">2018</span>\n",
       "</pre>\n"
      ],
      "text/plain": [
       "\u001b[1;31m2018\u001b[0m\n"
      ]
     },
     "metadata": {},
     "output_type": "display_data"
    },
    {
     "data": {
      "text/html": [
       "<pre style=\"white-space:pre;overflow-x:auto;line-height:normal;font-family:Menlo,'DejaVu Sans Mono',consolas,'Courier New',monospace\"><span style=\"color: #800000; text-decoration-color: #800000; font-weight: bold\">2018</span>\n",
       "</pre>\n"
      ],
      "text/plain": [
       "\u001b[1;31m2018\u001b[0m\n"
      ]
     },
     "metadata": {},
     "output_type": "display_data"
    },
    {
     "data": {
      "text/html": [
       "<pre style=\"white-space:pre;overflow-x:auto;line-height:normal;font-family:Menlo,'DejaVu Sans Mono',consolas,'Courier New',monospace\"><span style=\"color: #800000; text-decoration-color: #800000; font-weight: bold\">2018</span>\n",
       "</pre>\n"
      ],
      "text/plain": [
       "\u001b[1;31m2018\u001b[0m\n"
      ]
     },
     "metadata": {},
     "output_type": "display_data"
    },
    {
     "data": {
      "text/html": [
       "<pre style=\"white-space:pre;overflow-x:auto;line-height:normal;font-family:Menlo,'DejaVu Sans Mono',consolas,'Courier New',monospace\"><span style=\"color: #808000; text-decoration-color: #808000; font-weight: bold\">2019</span>\n",
       "</pre>\n"
      ],
      "text/plain": [
       "\u001b[1;33m2019\u001b[0m\n"
      ]
     },
     "metadata": {},
     "output_type": "display_data"
    },
    {
     "data": {
      "text/html": [
       "<pre style=\"white-space:pre;overflow-x:auto;line-height:normal;font-family:Menlo,'DejaVu Sans Mono',consolas,'Courier New',monospace\"><span style=\"color: #800000; text-decoration-color: #800000; font-weight: bold\">2018</span>\n",
       "</pre>\n"
      ],
      "text/plain": [
       "\u001b[1;31m2018\u001b[0m\n"
      ]
     },
     "metadata": {},
     "output_type": "display_data"
    },
    {
     "data": {
      "text/html": [
       "<pre style=\"white-space:pre;overflow-x:auto;line-height:normal;font-family:Menlo,'DejaVu Sans Mono',consolas,'Courier New',monospace\"><span style=\"color: #800000; text-decoration-color: #800000; font-weight: bold\">2016</span>\n",
       "</pre>\n"
      ],
      "text/plain": [
       "\u001b[1;31m2016\u001b[0m\n"
      ]
     },
     "metadata": {},
     "output_type": "display_data"
    },
    {
     "data": {
      "text/html": [
       "<pre style=\"white-space:pre;overflow-x:auto;line-height:normal;font-family:Menlo,'DejaVu Sans Mono',consolas,'Courier New',monospace\"><span style=\"color: #808000; text-decoration-color: #808000; font-weight: bold\">2019</span>\n",
       "</pre>\n"
      ],
      "text/plain": [
       "\u001b[1;33m2019\u001b[0m\n"
      ]
     },
     "metadata": {},
     "output_type": "display_data"
    },
    {
     "data": {
      "text/html": [
       "<pre style=\"white-space:pre;overflow-x:auto;line-height:normal;font-family:Menlo,'DejaVu Sans Mono',consolas,'Courier New',monospace\"><span style=\"color: #808000; text-decoration-color: #808000; font-weight: bold\">2019</span>\n",
       "</pre>\n"
      ],
      "text/plain": [
       "\u001b[1;33m2019\u001b[0m\n"
      ]
     },
     "metadata": {},
     "output_type": "display_data"
    },
    {
     "data": {
      "text/html": [
       "<pre style=\"white-space:pre;overflow-x:auto;line-height:normal;font-family:Menlo,'DejaVu Sans Mono',consolas,'Courier New',monospace\"><span style=\"color: #800000; text-decoration-color: #800000; font-weight: bold\">2016</span>\n",
       "</pre>\n"
      ],
      "text/plain": [
       "\u001b[1;31m2016\u001b[0m\n"
      ]
     },
     "metadata": {},
     "output_type": "display_data"
    },
    {
     "data": {
      "text/html": [
       "<pre style=\"white-space:pre;overflow-x:auto;line-height:normal;font-family:Menlo,'DejaVu Sans Mono',consolas,'Courier New',monospace\"><span style=\"color: #808000; text-decoration-color: #808000; font-weight: bold\">2019</span>\n",
       "</pre>\n"
      ],
      "text/plain": [
       "\u001b[1;33m2019\u001b[0m\n"
      ]
     },
     "metadata": {},
     "output_type": "display_data"
    },
    {
     "data": {
      "text/html": [
       "<pre style=\"white-space:pre;overflow-x:auto;line-height:normal;font-family:Menlo,'DejaVu Sans Mono',consolas,'Courier New',monospace\"><span style=\"color: #808000; text-decoration-color: #808000; font-weight: bold\">2019</span>\n",
       "</pre>\n"
      ],
      "text/plain": [
       "\u001b[1;33m2019\u001b[0m\n"
      ]
     },
     "metadata": {},
     "output_type": "display_data"
    },
    {
     "data": {
      "text/html": [
       "<pre style=\"white-space:pre;overflow-x:auto;line-height:normal;font-family:Menlo,'DejaVu Sans Mono',consolas,'Courier New',monospace\"><span style=\"color: #808000; text-decoration-color: #808000; font-weight: bold\">2019</span>\n",
       "</pre>\n"
      ],
      "text/plain": [
       "\u001b[1;33m2019\u001b[0m\n"
      ]
     },
     "metadata": {},
     "output_type": "display_data"
    },
    {
     "data": {
      "text/html": [
       "<pre style=\"white-space:pre;overflow-x:auto;line-height:normal;font-family:Menlo,'DejaVu Sans Mono',consolas,'Courier New',monospace\"><span style=\"color: #800000; text-decoration-color: #800000; font-weight: bold\">2016</span>\n",
       "</pre>\n"
      ],
      "text/plain": [
       "\u001b[1;31m2016\u001b[0m\n"
      ]
     },
     "metadata": {},
     "output_type": "display_data"
    },
    {
     "data": {
      "text/html": [
       "<pre style=\"white-space:pre;overflow-x:auto;line-height:normal;font-family:Menlo,'DejaVu Sans Mono',consolas,'Courier New',monospace\"><span style=\"color: #800000; text-decoration-color: #800000; font-weight: bold\">2016</span>\n",
       "</pre>\n"
      ],
      "text/plain": [
       "\u001b[1;31m2016\u001b[0m\n"
      ]
     },
     "metadata": {},
     "output_type": "display_data"
    },
    {
     "data": {
      "text/html": [
       "<pre style=\"white-space:pre;overflow-x:auto;line-height:normal;font-family:Menlo,'DejaVu Sans Mono',consolas,'Courier New',monospace\"><span style=\"color: #800000; text-decoration-color: #800000; font-weight: bold\">2018</span>\n",
       "</pre>\n"
      ],
      "text/plain": [
       "\u001b[1;31m2018\u001b[0m\n"
      ]
     },
     "metadata": {},
     "output_type": "display_data"
    },
    {
     "data": {
      "text/html": [
       "<pre style=\"white-space:pre;overflow-x:auto;line-height:normal;font-family:Menlo,'DejaVu Sans Mono',consolas,'Courier New',monospace\">Připojení k databázi bylo uzavřeno\n",
       "</pre>\n"
      ],
      "text/plain": [
       "Připojení k databázi bylo uzavřeno\n"
      ]
     },
     "metadata": {},
     "output_type": "display_data"
    }
   ],
   "source": [
    "import psycopg2\n",
    "from rich import print\n",
    "from datetime import datetime\n",
    "\n",
    "# Přihlašovací údaje k databázi\n",
    "dbname = 'DP_pokus'\n",
    "user = 'postgres'\n",
    "password = 'kapli4ky'\n",
    "host = 'localhost'\n",
    "port = '5432'  # Výchozí port PostgreSQL\n",
    "\n",
    "try:\n",
    "    # Vytvoření připojení\n",
    "    connection = psycopg2.connect(\n",
    "        dbname=dbname,\n",
    "        user=user,\n",
    "        password=password,\n",
    "        host=host,\n",
    "        port=port\n",
    "    )\n",
    "    # Vytvoření kurzoru pro provádění SQL dotazů\n",
    "    cursor = connection.cursor()\n",
    "    print(\"Připojení k databázi bylo úspěšné\")\n",
    "\n",
    "    # SQL dotaz na vybraní roku z tabulky \n",
    "    sql_query = \"\"\"\n",
    "    SELECT\n",
    "      zkratka, last_update\n",
    "    FROM\n",
    "        metadata_dat\n",
    "    \"\"\"\n",
    "    \n",
    "    cursor.execute(sql_query)\n",
    "    roky = cursor.fetchall()\n",
    "    \n",
    "    # Zjištění aktuálního roku\n",
    "    aktualni_rok = datetime.now().year\n",
    "    print(f\"Aktuální rok: {aktualni_rok}\")\n",
    "\n",
    "    # Funkce pro určení barvy na základě stáří roku\n",
    "    def urci_barvu(rok):\n",
    "        rozdil = aktualni_rok - rok\n",
    "        if rozdil < 3:\n",
    "            return \"green\"\n",
    "        elif rozdil < 6:\n",
    "            return \"yellow\"\n",
    "        else:\n",
    "            return \"red\"\n",
    "\n",
    "    # Vytisknutí roků s přiřazenými barvami\n",
    "    for row in roky:\n",
    "        rok = row[1]\n",
    "        barva = urci_barvu(rok)\n",
    "        print(f\"[{barva}]{rok}[/]\")\n",
    "\n",
    "except Exception as error:\n",
    "    print(f\"Chyba při provádění dotazu: {error}\")\n",
    "\n",
    "finally:\n",
    "    # Uzavření kurzoru a připojení\n",
    "    if cursor:\n",
    "        cursor.close()\n",
    "    if connection:\n",
    "        connection.close()\n",
    "        print(\"Připojení k databázi bylo uzavřeno\")\n",
    "\n"
   ]
  }
 ],
 "metadata": {
  "kernelspec": {
   "display_name": "Python 3",
   "language": "python",
   "name": "python3"
  },
  "language_info": {
   "codemirror_mode": {
    "name": "ipython",
    "version": 3
   },
   "file_extension": ".py",
   "mimetype": "text/x-python",
   "name": "python",
   "nbconvert_exporter": "python",
   "pygments_lexer": "ipython3",
   "version": "3.12.3"
  }
 },
 "nbformat": 4,
 "nbformat_minor": 2
}
