{
 "cells": [
  {
   "cell_type": "code",
   "execution_count": null,
   "metadata": {},
   "outputs": [],
   "source": [
    "#vytvoření postupu či logiky pro generování PDF souboru z formuláře na webu a nejdříve zobrazení náhledu toho PDF a jeho následné stažení \n",
    "#stažení potřebných knihoven pro práci s PDF soubory jako je generování PDF souboru z formuláře na webu a jeho následné stažení\n",
    "\n"
   ]
  },
  {
   "cell_type": "code",
   "execution_count": null,
   "metadata": {},
   "outputs": [],
   "source": [
    "#vytvoření formuláře na webu, který bude obsahovat několik polí, které budou obsahovat informace, které budou následně zobrazeny v PDF souboru\n"
   ]
  },
  {
   "cell_type": "code",
   "execution_count": null,
   "metadata": {},
   "outputs": [],
   "source": [
    "#vytvoření tlačítka pro odeslání formuláře"
   ]
  },
  {
   "cell_type": "code",
   "execution_count": null,
   "metadata": {},
   "outputs": [],
   "source": [
    "#vytvoření tlačítka pro zobrazení náhledu PDF souboru"
   ]
  },
  {
   "cell_type": "code",
   "execution_count": null,
   "metadata": {},
   "outputs": [],
   "source": [
    "#vytvoření tlačítka pro stažení PDF souboru"
   ]
  },
  {
   "cell_type": "code",
   "execution_count": null,
   "metadata": {},
   "outputs": [],
   "source": []
  }
 ],
 "metadata": {
  "language_info": {
   "name": "python"
  }
 },
 "nbformat": 4,
 "nbformat_minor": 2
}
