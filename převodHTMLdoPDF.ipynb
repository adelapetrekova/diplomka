{
 "cells": [
  {
   "cell_type": "code",
   "execution_count": 12,
   "metadata": {},
   "outputs": [],
   "source": [
    "#zadávání jednotlivých proměnných\n",
    "#vytvoření časové značky, kde se zobrazí aktuální datum a čas \n",
    "from datetime import datetime\n",
    "timestamp = datetime.now().strftime(\"%d-%m-%Y %H:%M:%S\")\n",
    "#vytvoření proměnné pro mapu, která bude screenshot z mapového pole z připojené mapové komponenty a propsán jako fotka do té proměnné\n",
    "    # tady bude proměnná mapa jako screenshot z mapové komponenty, kde proběhl výběr území \n",
    "    \n",
    "    # proměnná výběru tématických vrstev \n",
    "\n",
    "    # proměnná hodnoty\n",
    "\n",
    "    # proměnná opatření \n",
    "\n",
    "    # proměnná předpokládaného efektu opatření případně co by hrozilo kdyby se opatření nepřijala\n",
    "\n"
   ]
  },
  {
   "cell_type": "code",
   "execution_count": 13,
   "metadata": {},
   "outputs": [],
   "source": [
    "# vytvoření html šablony, kde se budou propisovat jednotlivé proměnné\n",
    "html = \"\"\"\n",
    "<!DOCTYPE html>\n",
    "<html>\n",
    "<head>\n",
    "    <title>Georeport zranitelnosti krajiny</title>\n",
    "\t\t\t<meta charset='UTF-8'>\n",
    "\t\t\t<meta name='description' content='HTML stránka georeportu zranitelnosti krajiny'>\n",
    "\t\t\t<meta name='keywords' content='zranitelnost krajiny, georeport, ekologie'>\n",
    "\t\t\t<meta name='author' content='Adéla Petřeková'>\n",
    "    <style>\n",
    "        body {{\n",
    "            font-family: Arial, sans-serif;\n",
    "            margin: 0;\n",
    "            padding: 0;\n",
    "        }}\n",
    "        h1 {{\n",
    "            background-color: #333;\n",
    "            color: #fff;\n",
    "            padding: 10px;\n",
    "        }}\n",
    "        p {{\n",
    "            padding: 10px;\n",
    "        }}\n",
    "    </style>\n",
    "\n",
    "</head>\n",
    "<body>\n",
    "    <h1>Georeport zranitelnosti krajiny</h1>\n",
    "    <p align=\"right\">Vytvořeno v: {timestamp}</p>\n",
    "    <p>Tady bude další text a tabulky/obrázky.</p>\n",
    "    \n",
    "\n",
    "</body>\n",
    "</html>\n",
    "\"\"\"\n",
    "#css nedavat moc jako samostatny soubor ale dat to do primo te sablony"
   ]
  },
  {
   "cell_type": "code",
   "execution_count": 14,
   "metadata": {},
   "outputs": [
    {
     "name": "stdout",
     "output_type": "stream",
     "text": [
      "Generated index.html\n"
     ]
    },
    {
     "data": {
      "text/plain": [
       "True"
      ]
     },
     "execution_count": 14,
     "metadata": {},
     "output_type": "execute_result"
    }
   ],
   "source": [
    "#vytvoření HTML souboru ze šablony\n",
    "with open(\"index.html\", \"w\") as f:\n",
    "    f.write(html.format(timestamp=timestamp))\n",
    "#otevření html souboru\n",
    "print(\"Generated index.html\")\n",
    "import webbrowser\n",
    "webbrowser.open(\"index.html\")\n",
    "\n"
   ]
  },
  {
   "cell_type": "code",
   "execution_count": null,
   "metadata": {},
   "outputs": [],
   "source": [
    "# output html as a PDF\n",
    "# first, import the necessary modules\n",
    "\n",
    "from weasyprint import HTML"
   ]
  },
  {
   "cell_type": "code",
   "execution_count": null,
   "metadata": {},
   "outputs": [],
   "source": [
    "# then, convert the HTML to a PDF\n",
    "HTML(\"index.html\").write_pdf(\"index.pdf\")\n",
    "\n",
    "print(\"Generated index.pdf\")"
   ]
  },
  {
   "cell_type": "markdown",
   "metadata": {},
   "source": [
    "# api esri na vytvoření bodu, linie a polygonu\n",
    "https://developers.arcgis.com/python/guide/add-a-point-line-and-polygon/ \n",
    "# tutorial esri\n",
    " https://developers.arcgis.com/documentation/mapping-apis-and-services/tutorials/\n",
    "\n",
    " co následně bude potřeba udelat: \n",
    " - implementace mapového okna - esri api atd\n",
    " - napojení databáze s daty\n",
    " - jakmile bude mapové okno tak více css rozdělení do sloupce \n",
    " \n",
    "\n"
   ]
  },
  {
   "cell_type": "markdown",
   "metadata": {},
   "source": []
  }
 ],
 "metadata": {
  "kernelspec": {
   "display_name": "adelprostredi",
   "language": "python",
   "name": "python3"
  },
  "language_info": {
   "codemirror_mode": {
    "name": "ipython",
    "version": 3
   },
   "file_extension": ".py",
   "mimetype": "text/x-python",
   "name": "python",
   "nbconvert_exporter": "python",
   "pygments_lexer": "ipython3",
   "version": "3.11.5"
  }
 },
 "nbformat": 4,
 "nbformat_minor": 2
}
