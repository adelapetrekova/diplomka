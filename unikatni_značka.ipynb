{
 "cells": [
  {
   "cell_type": "code",
   "execution_count": 1,
   "metadata": {},
   "outputs": [
    {
     "name": "stdout",
     "output_type": "stream",
     "text": [
      "bd0f33f5-3e7e-11ef-aaca-38fc988e2fa0\n"
     ]
    }
   ],
   "source": [
    "import uuid \n",
    "id = uuid.uuid1()\n",
    "print(id)"
   ]
  },
  {
   "cell_type": "code",
   "execution_count": 2,
   "metadata": {},
   "outputs": [],
   "source": [
    "import matplotlib.pyplot as plt\n",
    "import io\n",
    "import base64\n",
    "\n",
    "def generate_and_encode_plot(x, y, title=\"Sample Plot\"):\n",
    "    \"\"\"Generates a simple plot and encodes it as a base64 string.\"\"\"\n",
    "    try:\n",
    "        plt.figure()\n",
    "        plt.plot(x, y)\n",
    "        plt.title(title)\n",
    "        plt.xlabel(\"X-axis\")\n",
    "        plt.ylabel(\"Y-axis\")\n",
    "\n",
    "        # Save the plot to a BytesIO object\n",
    "        buf = io.BytesIO()\n",
    "        plt.savefig(buf, format='png')\n",
    "        buf.seek(0)\n",
    "\n",
    "        # Encode the image to base64\n",
    "        image_base64 = base64.b64encode(buf.read()).decode('utf-8')\n",
    "\n",
    "        plt.close() # Close the figure to prevent display in notebook/context where this is not meant to be displayed.\n",
    "\n",
    "        return image_base64\n",
    "\n",
    "    except Exception as e:\n",
    "        print(f\"Error generating plot: {e}\")\n",
    "        return None\n",
    "\n",
    "# Example usage\n",
    "x = [1, 2, 3, 4, 5]\n",
    "y = [2, 3, 5, 7, 11]\n",
    "\n",
    "image_data = generate_and_encode_plot(x, y)\n",
    "\n",
    "if image_data:\n",
    "    # You can now use image_data (the base64 string) as needed, for example, to embed it in HTML.\n",
    "    # print(image_data) #If you wanted to output the base64.\n",
    "    pass #In this example we are just generating the image, and not displaying it.\n",
    "else:\n",
    "    print(\"Plot generation failed.\")"
   ]
  }
 ],
 "metadata": {
  "kernelspec": {
   "display_name": "georeport_dp",
   "language": "python",
   "name": "python3"
  },
  "language_info": {
   "codemirror_mode": {
    "name": "ipython",
    "version": 3
   },
   "file_extension": ".py",
   "mimetype": "text/x-python",
   "name": "python",
   "nbconvert_exporter": "python",
   "pygments_lexer": "ipython3",
   "version": "3.12.9"
  }
 },
 "nbformat": 4,
 "nbformat_minor": 2
}
