{
 "cells": [
  {
   "cell_type": "code",
   "execution_count": 2,
   "metadata": {},
   "outputs": [
    {
     "ename": "AttributeError",
     "evalue": "'Geocoder' object has no attribute '_address_field'",
     "output_type": "error",
     "traceback": [
      "\u001b[1;31m---------------------------------------------------------------------------\u001b[0m",
      "\u001b[1;31mAttributeError\u001b[0m                            Traceback (most recent call last)",
      "Cell \u001b[1;32mIn[2], line 10\u001b[0m\n\u001b[0;32m      6\u001b[0m \u001b[38;5;66;03m# Location services standard endpoint URL\u001b[39;00m\n\u001b[0;32m      7\u001b[0m \u001b[38;5;66;03m# https://developers.arcgis.com/documentation/mapping-apis-and-services/geocoding/services/geocoding-service/#service-urls\u001b[39;00m\n\u001b[0;32m      8\u001b[0m geocode_url \u001b[38;5;241m=\u001b[39m Geocoder(\u001b[38;5;124m\"\u001b[39m\u001b[38;5;124mhttps://geocode-api.arcgis.com/arcgis/rest/services/World/GeocodeServer/\u001b[39m\u001b[38;5;124m\"\u001b[39m,gis\u001b[38;5;241m=\u001b[39mgis)\n\u001b[1;32m---> 10\u001b[0m geocode_result \u001b[38;5;241m=\u001b[39m \u001b[43mgeocode\u001b[49m\u001b[43m(\u001b[49m\u001b[43maddress\u001b[49m\u001b[38;5;241;43m=\u001b[39;49m\u001b[38;5;124;43m\"\u001b[39;49m\u001b[38;5;124;43m380 New York Street, Redlands, CA\u001b[39;49m\u001b[38;5;124;43m\"\u001b[39;49m\u001b[43m,\u001b[49m\u001b[43m \u001b[49m\u001b[43mgeocoder\u001b[49m\u001b[38;5;241;43m=\u001b[39;49m\u001b[43mgeocode_url\u001b[49m\u001b[43m)\u001b[49m\n\u001b[0;32m     12\u001b[0m geocode_result\n",
      "File \u001b[1;32mc:\\Users\\petre\\OneDrive\\Plocha\\MGR\\clone_python\\clone_python_arcgis_zkouska\\Lib\\site-packages\\arcgis\\geocoding\\_functions.py:1369\u001b[0m, in \u001b[0;36mgeocode\u001b[1;34m(address, search_extent, location, distance, out_sr, category, out_fields, max_locations, magic_key, for_storage, geocoder, as_featureset, match_out_of_range, location_type, lang_code, source_country)\u001b[0m\n\u001b[0;32m   1367\u001b[0m \u001b[38;5;28;01mif\u001b[39;00m geocoder \u001b[38;5;129;01mis\u001b[39;00m \u001b[38;5;28;01mNone\u001b[39;00m:\n\u001b[0;32m   1368\u001b[0m     geocoder \u001b[38;5;241m=\u001b[39m arcgis\u001b[38;5;241m.\u001b[39menv\u001b[38;5;241m.\u001b[39mactive_gis\u001b[38;5;241m.\u001b[39m_tools\u001b[38;5;241m.\u001b[39mgeocoders[\u001b[38;5;241m0\u001b[39m]\n\u001b[1;32m-> 1369\u001b[0m \u001b[38;5;28;01mreturn\u001b[39;00m \u001b[43mgeocoder\u001b[49m\u001b[38;5;241;43m.\u001b[39;49m\u001b[43m_geocode\u001b[49m\u001b[43m(\u001b[49m\n\u001b[0;32m   1370\u001b[0m \u001b[43m    \u001b[49m\u001b[43maddress\u001b[49m\u001b[43m,\u001b[49m\n\u001b[0;32m   1371\u001b[0m \u001b[43m    \u001b[49m\u001b[43msearch_extent\u001b[49m\u001b[43m,\u001b[49m\n\u001b[0;32m   1372\u001b[0m \u001b[43m    \u001b[49m\u001b[43mlocation\u001b[49m\u001b[43m,\u001b[49m\n\u001b[0;32m   1373\u001b[0m \u001b[43m    \u001b[49m\u001b[43mdistance\u001b[49m\u001b[43m,\u001b[49m\n\u001b[0;32m   1374\u001b[0m \u001b[43m    \u001b[49m\u001b[43mout_sr\u001b[49m\u001b[43m,\u001b[49m\n\u001b[0;32m   1375\u001b[0m \u001b[43m    \u001b[49m\u001b[43mcategory\u001b[49m\u001b[43m,\u001b[49m\n\u001b[0;32m   1376\u001b[0m \u001b[43m    \u001b[49m\u001b[43mout_fields\u001b[49m\u001b[43m,\u001b[49m\n\u001b[0;32m   1377\u001b[0m \u001b[43m    \u001b[49m\u001b[43mmax_locations\u001b[49m\u001b[43m,\u001b[49m\n\u001b[0;32m   1378\u001b[0m \u001b[43m    \u001b[49m\u001b[43mmagic_key\u001b[49m\u001b[43m,\u001b[49m\n\u001b[0;32m   1379\u001b[0m \u001b[43m    \u001b[49m\u001b[43mfor_storage\u001b[49m\u001b[43m,\u001b[49m\n\u001b[0;32m   1380\u001b[0m \u001b[43m    \u001b[49m\u001b[43mas_featureset\u001b[49m\u001b[43m,\u001b[49m\n\u001b[0;32m   1381\u001b[0m \u001b[43m    \u001b[49m\u001b[43mmatch_out_of_range\u001b[49m\u001b[38;5;241;43m=\u001b[39;49m\u001b[43mmatch_out_of_range\u001b[49m\u001b[43m,\u001b[49m\n\u001b[0;32m   1382\u001b[0m \u001b[43m    \u001b[49m\u001b[43mlocation_type\u001b[49m\u001b[38;5;241;43m=\u001b[39;49m\u001b[43mlocation_type\u001b[49m\u001b[43m,\u001b[49m\n\u001b[0;32m   1383\u001b[0m \u001b[43m    \u001b[49m\u001b[43mlang_code\u001b[49m\u001b[38;5;241;43m=\u001b[39;49m\u001b[43mlang_code\u001b[49m\u001b[43m,\u001b[49m\n\u001b[0;32m   1384\u001b[0m \u001b[43m    \u001b[49m\u001b[43msource_country\u001b[49m\u001b[38;5;241;43m=\u001b[39;49m\u001b[43msource_country\u001b[49m\u001b[43m,\u001b[49m\n\u001b[0;32m   1385\u001b[0m \u001b[43m\u001b[49m\u001b[43m)\u001b[49m\n",
      "File \u001b[1;32mc:\\Users\\petre\\OneDrive\\Plocha\\MGR\\clone_python\\clone_python_arcgis_zkouska\\Lib\\site-packages\\arcgis\\geocoding\\_functions.py:231\u001b[0m, in \u001b[0;36mGeocoder._geocode\u001b[1;34m(self, address, search_extent, location, distance, out_sr, category, out_fields, max_locations, magic_key, for_storage, as_featureset, match_out_of_range, location_type, lang_code, source_country)\u001b[0m\n\u001b[0;32m    229\u001b[0m \u001b[38;5;28;01mif\u001b[39;00m address \u001b[38;5;129;01mis\u001b[39;00m \u001b[38;5;129;01mnot\u001b[39;00m \u001b[38;5;28;01mNone\u001b[39;00m:\n\u001b[0;32m    230\u001b[0m     \u001b[38;5;28;01mif\u001b[39;00m \u001b[38;5;28misinstance\u001b[39m(address, \u001b[38;5;28mstr\u001b[39m):\n\u001b[1;32m--> 231\u001b[0m         params[\u001b[38;5;28;43mself\u001b[39;49m\u001b[38;5;241;43m.\u001b[39;49m\u001b[43m_address_field\u001b[49m] \u001b[38;5;241m=\u001b[39m address\n\u001b[0;32m    232\u001b[0m     \u001b[38;5;28;01melif\u001b[39;00m \u001b[38;5;28misinstance\u001b[39m(address, \u001b[38;5;28mdict\u001b[39m):\n\u001b[0;32m    233\u001b[0m         params\u001b[38;5;241m.\u001b[39mupdate(address)\n",
      "\u001b[1;31mAttributeError\u001b[0m: 'Geocoder' object has no attribute '_address_field'"
     ]
    }
   ],
   "source": [
    "\n",
    "from arcgis.gis import GIS\n",
    "from arcgis.geocoding import geocode, Geocoder\n",
    "\n",
    "gis = GIS(api_key=\"3NKHt6i2urmWtqOuugvr9R9i5RZL2DrEdBf66bjEpw7O_T-WHHpI1OfusKamfV9W2deYzqnkEVDU1zwB1hjECqxiIYXm7iBHAG6H-TLQVVq37AwOqn4roJ4o8b5Bvmeg\")\n",
    "\n",
    "# Location services standard endpoint URL\n",
    "# https://developers.arcgis.com/documentation/mapping-apis-and-services/geocoding/services/geocoding-service/#service-urls\n",
    "geocode_url = Geocoder(\"https://geocode-api.arcgis.com/arcgis/rest/services/World/GeocodeServer/\",gis=gis)\n",
    "\n",
    "geocode_result = geocode(address=\"380 New York Street, Redlands, CA\", geocoder=geocode_url)\n",
    "\n",
    "geocode_result"
   ]
  },
  {
   "cell_type": "code",
   "execution_count": 1,
   "metadata": {},
   "outputs": [],
   "source": [
    "import arcgis"
   ]
  }
 ],
 "metadata": {
  "kernelspec": {
   "display_name": "Python 3",
   "language": "python",
   "name": "python3"
  },
  "language_info": {
   "codemirror_mode": {
    "name": "ipython",
    "version": 3
   },
   "file_extension": ".py",
   "mimetype": "text/x-python",
   "name": "python",
   "nbconvert_exporter": "python",
   "pygments_lexer": "ipython3",
   "version": "3.11.8"
  }
 },
 "nbformat": 4,
 "nbformat_minor": 2
}
