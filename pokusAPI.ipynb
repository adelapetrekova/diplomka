{
 "cells": [
  {
   "cell_type": "code",
   "execution_count": 7,
   "metadata": {},
   "outputs": [
    {
     "ename": "ModuleNotFoundError",
     "evalue": "No module named 'arcgis'",
     "output_type": "error",
     "traceback": [
      "\u001b[1;31m---------------------------------------------------------------------------\u001b[0m",
      "\u001b[1;31mModuleNotFoundError\u001b[0m                       Traceback (most recent call last)",
      "Cell \u001b[1;32mIn[7], line 1\u001b[0m\n\u001b[1;32m----> 1\u001b[0m \u001b[38;5;28;01mfrom\u001b[39;00m \u001b[38;5;21;01marcgis\u001b[39;00m\u001b[38;5;21;01m.\u001b[39;00m\u001b[38;5;21;01mgis\u001b[39;00m \u001b[38;5;28;01mimport\u001b[39;00m GIS\n\u001b[0;32m      2\u001b[0m \u001b[38;5;28;01mfrom\u001b[39;00m \u001b[38;5;21;01marcgis\u001b[39;00m\u001b[38;5;21;01m.\u001b[39;00m\u001b[38;5;21;01mgeocoding\u001b[39;00m \u001b[38;5;28;01mimport\u001b[39;00m geocode, Geocoder\n\u001b[0;32m      4\u001b[0m gis \u001b[38;5;241m=\u001b[39m GIS(api_key\u001b[38;5;241m=\u001b[39m\u001b[38;5;124m\"\u001b[39m\u001b[38;5;124m3NKHt6i2urmWtqOuugvr9R9i5RZL2DrEdBf66bjEpw7O_T-WHHpI1OfusKamfV9W2deYzqnkEVDU1zwB1hjECqxiIYXm7iBHAG6H-TLQVVq37AwOqn4roJ4o8b5Bvmeg\u001b[39m\u001b[38;5;124m\"\u001b[39m)\n",
      "\u001b[1;31mModuleNotFoundError\u001b[0m: No module named 'arcgis'"
     ]
    }
   ],
   "source": [
    "\n",
    "from arcgis.gis import GIS\n",
    "from arcgis.geocoding import geocode, Geocoder\n",
    "\n",
    "gis = GIS(api_key=\"3NKHt6i2urmWtqOuugvr9R9i5RZL2DrEdBf66bjEpw7O_T-WHHpI1OfusKamfV9W2deYzqnkEVDU1zwB1hjECqxiIYXm7iBHAG6H-TLQVVq37AwOqn4roJ4o8b5Bvmeg\")\n",
    "\n",
    "# Location services standard endpoint URL\n",
    "# https://developers.arcgis.com/documentation/mapping-apis-and-services/geocoding/services/geocoding-service/#service-urls\n",
    "geocode_url = Geocoder(\"https://geocode-api.arcgis.com/arcgis/rest/services/World/GeocodeServer/\",gis=gis)\n",
    "\n",
    "geocode_result = geocode(address=\"380 New York Street, Redlands, CA\", geocoder=geocode_url)\n",
    "\n",
    "geocode_result"
   ]
  }
 ],
 "metadata": {
  "kernelspec": {
   "display_name": "Python 3",
   "language": "python",
   "name": "python3"
  },
  "language_info": {
   "codemirror_mode": {
    "name": "ipython",
    "version": 3
   },
   "file_extension": ".py",
   "mimetype": "text/x-python",
   "name": "python",
   "nbconvert_exporter": "python",
   "pygments_lexer": "ipython3",
   "version": "3.12.3"
  }
 },
 "nbformat": 4,
 "nbformat_minor": 2
}
